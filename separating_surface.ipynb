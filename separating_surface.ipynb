{
  "nbformat": 4,
  "nbformat_minor": 0,
  "metadata": {
    "colab": {
      "provenance": []
    },
    "kernelspec": {
      "name": "python3",
      "display_name": "Python 3"
    },
    "language_info": {
      "name": "python"
    }
  },
  "cells": [
    {
      "cell_type": "code",
      "execution_count": null,
      "metadata": {
        "id": "l_4oWeykytTx"
      },
      "outputs": [],
      "source": [
        "import numpy as np\n",
        "import matplotlib.pyplot as plt\n",
        "from sklearn import linear_model"
      ]
    },
    {
      "cell_type": "code",
      "source": [
        "np.random.seed(13) # начало генератора случайных чисел, чтобы после перезапуска были одинаковые\n",
        "N=100 # число точек в одном классе"
      ],
      "metadata": {
        "id": "q9gYA6vRD42r"
      },
      "execution_count": null,
      "outputs": []
    },
    {
      "cell_type": "code",
      "source": [
        "# первый класс, случайные точки вокруг (-20, -20) выход = -1\n",
        "x1 = -20+5*np.random.randn(N, 1) \n",
        "y1 = -20+5*np.random.randn(N, 1) \n",
        "z1=-1*np.ones((100,1)) "
      ],
      "metadata": {
        "id": "skiUlrPnD-6y"
      },
      "execution_count": null,
      "outputs": []
    },
    {
      "cell_type": "code",
      "source": [
        "# второй класс, случайные точки вокруг (+20, +20) выход = +1\n",
        "x2 = 20+5*np.random.randn(N, 1) \n",
        "y2 = 20+5*np.random.randn(N, 1) \n",
        "z2=+1*np.ones((100,1)) "
      ],
      "metadata": {
        "id": "mNj58SfeEADB"
      },
      "execution_count": null,
      "outputs": []
    },
    {
      "cell_type": "code",
      "source": [
        "# Объединяем массивы в один \n",
        "Input=np.hstack((np.vstack((x1, x2)),np.vstack((y1 , y2))))\n",
        "Output=np.vstack((z1,z2))"
      ],
      "metadata": {
        "id": "iNNWNy26EBqY"
      },
      "execution_count": null,
      "outputs": []
    },
    {
      "cell_type": "code",
      "source": [
        "fig, ax = plt.subplots()\n",
        "# рисуем обучающие точки своим цветом\n",
        "ax.scatter(Input[0:N-1,0],Input[0:N-1,1],color='green')\n",
        "ax.scatter(Input[N:,0],Input[N:,1],color='blue')"
      ],
      "metadata": {
        "colab": {
          "base_uri": "https://localhost:8080/",
          "height": 282
        },
        "id": "lk0aTNkrEFWr",
        "outputId": "37d82b6e-ede3-4139-b386-2776551f468c"
      },
      "execution_count": null,
      "outputs": [
        {
          "output_type": "execute_result",
          "data": {
            "text/plain": [
              "<matplotlib.collections.PathCollection at 0x7fa258540760>"
            ]
          },
          "metadata": {},
          "execution_count": 6
        },
        {
          "output_type": "display_data",
          "data": {
            "text/plain": [
              "<Figure size 432x288 with 1 Axes>"
            ],
            "image/png": "[encoded data removed]"
          },
          "metadata": {
            "needs_background": "light"
          }
        }
      ]
    },
    {
      "cell_type": "code",
      "source": [
        "# создаем и обучаем линейную регрессию\n",
        "linr = linear_model.LinearRegression() # создадим ее. normalize=False если хотим без нормализации\n",
        "linr.fit(Input, Output) # обучим модель, принудительно переформатировав размеры массивов\n",
        "print('Обученные параметры b={d[0]} a={d[1]}'.format(d=(linr.intercept_, linr.coef_))) \n",
        "out_pred=linr.predict(Input)# посчитаем выход модели"
      ],
      "metadata": {
        "colab": {
          "base_uri": "https://localhost:8080/"
        },
        "id": "w7hqt-xXEMGb",
        "outputId": "b040c2a7-27a6-4443-d7cd-e3f4dbcd2e16"
      },
      "execution_count": null,
      "outputs": [
        {
          "output_type": "stream",
          "name": "stdout",
          "text": [
            "Обученные параметры b=[0.00617499] a=[[0.02080333 0.0275432 ]]\n"
          ]
        }
      ]
    },
    {
      "cell_type": "code",
      "source": [
        "# Если выход меньше нуля - принимаем за первый класс, если больше - за второй\n",
        "# найдем ошибки, т.е. не совпадение между истинными классами и полученными моделью \n",
        "err1=(out_pred>0) & (Output==-1)# думаем что второй, а на самом деле первый класс\n",
        "err2=(out_pred<0) & (Output==+1)# думаем что первый, а на самом деле второй класс\n",
        "err1=err1[:,0]\n",
        "err2=err2[:,0]"
      ],
      "metadata": {
        "id": "Sfr5tlpKEOB5"
      },
      "execution_count": null,
      "outputs": []
    },
    {
      "cell_type": "code",
      "source": [
        "# нарисуем ошибки\n",
        "ax.scatter(Input[err1,0],Input[err1,1],color='yellow',marker='x')\n",
        "ax.scatter(Input[err2,0],Input[err2,1],color='magenta',marker='x')"
      ],
      "metadata": {
        "colab": {
          "base_uri": "https://localhost:8080/"
        },
        "id": "sMS9VnhkEgas",
        "outputId": "a7809cac-a7a4-49e8-978f-9fcc965e9e2a"
      },
      "execution_count": null,
      "outputs": [
        {
          "output_type": "execute_result",
          "data": {
            "text/plain": [
              "<matplotlib.collections.PathCollection at 0x7fa2583e2610>"
            ]
          },
          "metadata": {},
          "execution_count": 9
        }
      ]
    },
    {
      "cell_type": "code",
      "source": [
        "# возьмем много точек плоскости\n",
        "h=0.2\n",
        "x_min,y_min=Input.min(axis=0)-10\n",
        "x_max, y_max=Input.max(axis=0)+10\n",
        "xx, yy = np.meshgrid(np.arange(x_min, x_max, h), np.arange(y_min, y_max, h)) # точки плоскости из равномерной сетки\n",
        "Input_test=np.c_[xx.ravel(), yy.ravel()]"
      ],
      "metadata": {
        "id": "9Be-No8HEjSn"
      },
      "execution_count": null,
      "outputs": []
    },
    {
      "cell_type": "code",
      "source": [
        "# посчитаем для них выходы обученной линейной регрессии\n",
        "zz = linr.predict(Input_test)\n",
        "zz = zz.reshape(xx.shape)\n",
        "zz[zz>0]=1 # больше нуля - второй класс\n",
        "zz[zz<0]=-1 # меньше нуля - первый класс\n",
        "ax.contourf(xx, yy, zz, cmap=plt.cm.coolwarm, alpha=0.8); # рисуем цветом выходы для всех точек плоскости"
      ],
      "metadata": {
        "id": "aeX7nmd6ElpQ"
      },
      "execution_count": null,
      "outputs": []
    },
    {
      "cell_type": "code",
      "source": [
        "# рисуем прямую\n",
        "xxx=np.arange(x_min,x_max,h)\n",
        "yyy=-(linr.intercept_[0] + linr.coef_[0][0]*xxx)/linr.coef_[0][1] # x2=-(a1*x1+b)/a2"
      ],
      "metadata": {
        "id": "ZeXEJamxEodz"
      },
      "execution_count": null,
      "outputs": []
    },
    {
      "cell_type": "code",
      "source": [
        "ax.plot(xxx,yyy,color='black');\n",
        "ax.set_xlim([-40, 40])\n",
        "ax.set_ylim([-40, 40])\n",
        "fig"
      ],
      "metadata": {
        "colab": {
          "base_uri": "https://localhost:8080/",
          "height": 269
        },
        "id": "qRyv1NjFErCh",
        "outputId": "bfd94484-1c06-4aa2-c00e-6a155c55f7b2"
      },
      "execution_count": null,
      "outputs": [
        {
          "output_type": "execute_result",
          "data": {
            "text/plain": [
              "<Figure size 432x288 with 1 Axes>"
            ],
            "image/png": "[encoded data removed]"
          },
          "metadata": {},
          "execution_count": 14
        }
      ]
    }
  ]
}